{
  "metadata": {
    "kernelspec": {
      "language": "python",
      "display_name": "Python 3",
      "name": "python3"
    },
    "language_info": {
      "name": "python",
      "version": "3.10.13",
      "mimetype": "text/x-python",
      "codemirror_mode": {
        "name": "ipython",
        "version": 3
      },
      "pygments_lexer": "ipython3",
      "nbconvert_exporter": "python",
      "file_extension": ".py"
    },
    "kaggle": {
      "accelerator": "none",
      "dataSources": [
        {
          "sourceId": 81427,
          "databundleVersionId": 8809707,
          "sourceType": "competition"
        }
      ],
      "dockerImageVersionId": 30732,
      "isInternetEnabled": false,
      "language": "python",
      "sourceType": "notebook",
      "isGpuEnabled": false
    },
    "colab": {
      "provenance": []
    }
  },
  "nbformat_minor": 0,
  "nbformat": 4,
  "cells": [
    {
      "cell_type": "code",
      "source": [
        "# This Python 3 environment comes with many helpful analytics libraries installed\n",
        "# It is defined by the kaggle/python Docker image: https://github.com/kaggle/docker-python\n",
        "# For example, here's several helpful packages to load\n",
        "\n",
        "import numpy as np # linear algebra\n",
        "import pandas as pd # data processing, CSV file I/O (e.g. pd.read_csv)\n",
        "from sklearn.model_selection import train_test_split\n",
        "from sklearn.svm import SVC\n",
        "from sklearn.metrics import f1_score, classification_report\n",
        "\n",
        "# Input data files are available in the read-only \"../input/\" directory\n",
        "# For example, running this (by clicking run or pressing Shift+Enter) will list all files under the input directory\n",
        "\n",
        "import os\n",
        "for dirname, _, filenames in os.walk('/kaggle/input'):\n",
        "    for filename in filenames:\n",
        "        print(os.path.join(dirname, filename))\n",
        "\n",
        "# You can write up to 20GB to the current directory (/kaggle/working/) that gets preserved as output when you create a version using \"Save & Run All\"\n",
        "# You can also write temporary files to /kaggle/temp/, but they won't be saved outside of the current session"
      ],
      "metadata": {
        "_uuid": "8f2839f25d086af736a60e9eeb907d3b93b6e0e5",
        "_cell_guid": "b1076dfc-b9ad-4769-8c92-a6c4dae69d19",
        "execution": {
          "iopub.status.busy": "2024-06-15T19:54:55.306991Z",
          "iopub.execute_input": "2024-06-15T19:54:55.307386Z",
          "iopub.status.idle": "2024-06-15T19:54:56.008835Z",
          "shell.execute_reply.started": "2024-06-15T19:54:55.307356Z",
          "shell.execute_reply": "2024-06-15T19:54:56.007577Z"
        },
        "trusted": true,
        "id": "XXlprZjhJFBB"
      },
      "execution_count": null,
      "outputs": []
    },
    {
      "cell_type": "code",
      "source": [
        "train_df = pd.read_csv('/kaggle/input/week4-practice-hackathon-2024/Train.csv')"
      ],
      "metadata": {
        "execution": {
          "iopub.status.busy": "2024-06-15T19:54:59.38788Z",
          "iopub.execute_input": "2024-06-15T19:54:59.388438Z",
          "iopub.status.idle": "2024-06-15T19:54:59.625881Z",
          "shell.execute_reply.started": "2024-06-15T19:54:59.388401Z",
          "shell.execute_reply": "2024-06-15T19:54:59.624453Z"
        },
        "trusted": true,
        "id": "hDYoM6sCJFBC"
      },
      "execution_count": null,
      "outputs": []
    },
    {
      "cell_type": "code",
      "source": [
        "train_df.head()"
      ],
      "metadata": {
        "execution": {
          "iopub.status.busy": "2024-06-15T19:55:00.360825Z",
          "iopub.execute_input": "2024-06-15T19:55:00.361215Z",
          "iopub.status.idle": "2024-06-15T19:55:00.408156Z",
          "shell.execute_reply.started": "2024-06-15T19:55:00.361185Z",
          "shell.execute_reply": "2024-06-15T19:55:00.40674Z"
        },
        "trusted": true,
        "id": "93jEjcpXJFBD"
      },
      "execution_count": null,
      "outputs": []
    },
    {
      "cell_type": "code",
      "source": [
        "train_df.shape"
      ],
      "metadata": {
        "execution": {
          "iopub.status.busy": "2024-06-15T19:55:01.220506Z",
          "iopub.execute_input": "2024-06-15T19:55:01.220893Z",
          "iopub.status.idle": "2024-06-15T19:55:01.228097Z",
          "shell.execute_reply.started": "2024-06-15T19:55:01.220866Z",
          "shell.execute_reply": "2024-06-15T19:55:01.226894Z"
        },
        "trusted": true,
        "id": "Lrvem5j2JFBE"
      },
      "execution_count": null,
      "outputs": []
    },
    {
      "cell_type": "code",
      "source": [
        "train_df.isnull().sum()"
      ],
      "metadata": {
        "execution": {
          "iopub.status.busy": "2024-06-15T19:55:01.93451Z",
          "iopub.execute_input": "2024-06-15T19:55:01.935558Z",
          "iopub.status.idle": "2024-06-15T19:55:01.949473Z",
          "shell.execute_reply.started": "2024-06-15T19:55:01.93552Z",
          "shell.execute_reply": "2024-06-15T19:55:01.948028Z"
        },
        "trusted": true,
        "id": "6CvNf_dgJFBE"
      },
      "execution_count": null,
      "outputs": []
    },
    {
      "cell_type": "code",
      "source": [
        "X = train_df.drop('class', axis=1)\n",
        "y = train_df['class']"
      ],
      "metadata": {
        "execution": {
          "iopub.status.busy": "2024-06-15T19:55:02.487674Z",
          "iopub.execute_input": "2024-06-15T19:55:02.488781Z",
          "iopub.status.idle": "2024-06-15T19:55:02.503055Z",
          "shell.execute_reply.started": "2024-06-15T19:55:02.488743Z",
          "shell.execute_reply": "2024-06-15T19:55:02.501776Z"
        },
        "trusted": true,
        "id": "Uwo1LOSWJFBF"
      },
      "execution_count": null,
      "outputs": []
    },
    {
      "cell_type": "code",
      "source": [
        "X_train, X_test, y_train, y_test = train_test_split(X, y, test_size = 0.25)"
      ],
      "metadata": {
        "execution": {
          "iopub.status.busy": "2024-06-15T19:55:03.619679Z",
          "iopub.execute_input": "2024-06-15T19:55:03.620942Z",
          "iopub.status.idle": "2024-06-15T19:55:03.64792Z",
          "shell.execute_reply.started": "2024-06-15T19:55:03.620902Z",
          "shell.execute_reply": "2024-06-15T19:55:03.646288Z"
        },
        "trusted": true,
        "id": "O_m8jymQJFBG"
      },
      "execution_count": null,
      "outputs": []
    },
    {
      "cell_type": "code",
      "source": [
        "from sklearn.preprocessing import RobustScaler\n",
        "scaler = RobustScaler()\n",
        "X_train_scaled = scaler.fit_transform(X_train)\n",
        "X_test_scaled = scaler.transform(X_test)"
      ],
      "metadata": {
        "execution": {
          "iopub.status.busy": "2024-06-15T19:55:04.492381Z",
          "iopub.execute_input": "2024-06-15T19:55:04.49285Z",
          "iopub.status.idle": "2024-06-15T19:55:04.563969Z",
          "shell.execute_reply.started": "2024-06-15T19:55:04.492812Z",
          "shell.execute_reply": "2024-06-15T19:55:04.562911Z"
        },
        "trusted": true,
        "id": "nF5iPAOaJFBH"
      },
      "execution_count": null,
      "outputs": []
    },
    {
      "cell_type": "code",
      "source": [
        "svm_model = SVC(gamma = 'auto')\n",
        "svm_model.fit(X_train_scaled, y_train)"
      ],
      "metadata": {
        "execution": {
          "iopub.status.busy": "2024-06-15T19:57:57.211172Z",
          "iopub.execute_input": "2024-06-15T19:57:57.211591Z",
          "iopub.status.idle": "2024-06-15T20:00:26.654869Z",
          "shell.execute_reply.started": "2024-06-15T19:57:57.21156Z",
          "shell.execute_reply": "2024-06-15T20:00:26.653714Z"
        },
        "trusted": true,
        "id": "aOp2eIEsJFBH"
      },
      "execution_count": null,
      "outputs": []
    },
    {
      "cell_type": "code",
      "source": [
        "y_pred_svm = svm_model.predict(X_test_scaled)\n",
        "print(f1_score(y_test, y_pred_svm))\n",
        "\n",
        "print(classification_report(y_test, y_pred_svm))"
      ],
      "metadata": {
        "execution": {
          "iopub.status.busy": "2024-06-15T20:00:49.258008Z",
          "iopub.execute_input": "2024-06-15T20:00:49.258454Z",
          "iopub.status.idle": "2024-06-15T20:01:12.305042Z",
          "shell.execute_reply.started": "2024-06-15T20:00:49.258406Z",
          "shell.execute_reply": "2024-06-15T20:01:12.303625Z"
        },
        "trusted": true,
        "id": "QI-kq_-MJFBI"
      },
      "execution_count": null,
      "outputs": []
    },
    {
      "cell_type": "code",
      "source": [
        "test_data = pd.read_csv(\"/kaggle/input/week4-practice-hackathon-2024/Test.csv\")\n"
      ],
      "metadata": {
        "execution": {
          "iopub.status.busy": "2024-06-15T20:01:19.816259Z",
          "iopub.execute_input": "2024-06-15T20:01:19.816747Z",
          "iopub.status.idle": "2024-06-15T20:01:19.910565Z",
          "shell.execute_reply.started": "2024-06-15T20:01:19.816679Z",
          "shell.execute_reply": "2024-06-15T20:01:19.909506Z"
        },
        "trusted": true,
        "id": "g7Bv7h3LJFBI"
      },
      "execution_count": null,
      "outputs": []
    },
    {
      "cell_type": "code",
      "source": [
        "test_data.shape"
      ],
      "metadata": {
        "execution": {
          "iopub.status.busy": "2024-06-15T20:01:20.366767Z",
          "iopub.execute_input": "2024-06-15T20:01:20.367189Z",
          "iopub.status.idle": "2024-06-15T20:01:20.374583Z",
          "shell.execute_reply.started": "2024-06-15T20:01:20.367156Z",
          "shell.execute_reply": "2024-06-15T20:01:20.373361Z"
        },
        "trusted": true,
        "id": "gwcsmcXkJFBJ"
      },
      "execution_count": null,
      "outputs": []
    },
    {
      "cell_type": "code",
      "source": [
        "Index=test_data['Index']\n",
        "test_data.drop(['Index'],axis=1,inplace=True)"
      ],
      "metadata": {
        "execution": {
          "iopub.status.busy": "2024-06-15T20:01:21.261825Z",
          "iopub.execute_input": "2024-06-15T20:01:21.262213Z",
          "iopub.status.idle": "2024-06-15T20:01:21.269109Z",
          "shell.execute_reply.started": "2024-06-15T20:01:21.262184Z",
          "shell.execute_reply": "2024-06-15T20:01:21.267891Z"
        },
        "trusted": true,
        "id": "imQI-d33JFBJ"
      },
      "execution_count": null,
      "outputs": []
    },
    {
      "cell_type": "code",
      "source": [
        "y_test_pred = svm_model.predict(test_data)"
      ],
      "metadata": {
        "execution": {
          "iopub.status.busy": "2024-06-15T20:01:23.162251Z",
          "iopub.execute_input": "2024-06-15T20:01:23.163756Z",
          "iopub.status.idle": "2024-06-15T20:02:04.554877Z",
          "shell.execute_reply.started": "2024-06-15T20:01:23.163677Z",
          "shell.execute_reply": "2024-06-15T20:02:04.553376Z"
        },
        "trusted": true,
        "id": "oDX2i83rJFBJ"
      },
      "execution_count": null,
      "outputs": []
    },
    {
      "cell_type": "code",
      "source": [
        "y_test_pred"
      ],
      "metadata": {
        "execution": {
          "iopub.status.busy": "2024-06-15T20:02:04.557177Z",
          "iopub.execute_input": "2024-06-15T20:02:04.557623Z",
          "iopub.status.idle": "2024-06-15T20:02:04.565338Z",
          "shell.execute_reply.started": "2024-06-15T20:02:04.557584Z",
          "shell.execute_reply": "2024-06-15T20:02:04.56406Z"
        },
        "trusted": true,
        "id": "iIu5shVVJFBJ"
      },
      "execution_count": null,
      "outputs": []
    },
    {
      "cell_type": "code",
      "source": [
        "result = pd.DataFrame({\n",
        "    'Index': Index,\n",
        "    'class': y_test_pred\n",
        "})"
      ],
      "metadata": {
        "execution": {
          "iopub.status.busy": "2024-06-15T20:02:04.566827Z",
          "iopub.execute_input": "2024-06-15T20:02:04.567243Z",
          "iopub.status.idle": "2024-06-15T20:02:04.58006Z",
          "shell.execute_reply.started": "2024-06-15T20:02:04.567202Z",
          "shell.execute_reply": "2024-06-15T20:02:04.579026Z"
        },
        "trusted": true,
        "id": "ohDkHqrHJFBJ"
      },
      "execution_count": null,
      "outputs": []
    },
    {
      "cell_type": "code",
      "source": [
        "result"
      ],
      "metadata": {
        "execution": {
          "iopub.status.busy": "2024-06-15T20:02:04.582378Z",
          "iopub.execute_input": "2024-06-15T20:02:04.582802Z",
          "iopub.status.idle": "2024-06-15T20:02:04.600033Z",
          "shell.execute_reply.started": "2024-06-15T20:02:04.582708Z",
          "shell.execute_reply": "2024-06-15T20:02:04.598603Z"
        },
        "trusted": true,
        "id": "OJcqju2-JFBK"
      },
      "execution_count": null,
      "outputs": []
    },
    {
      "cell_type": "code",
      "source": [
        "result.to_csv(\"submission.csv\", index=False)"
      ],
      "metadata": {
        "execution": {
          "iopub.status.busy": "2024-06-15T20:02:04.601711Z",
          "iopub.execute_input": "2024-06-15T20:02:04.602119Z",
          "iopub.status.idle": "2024-06-15T20:02:04.640098Z",
          "shell.execute_reply.started": "2024-06-15T20:02:04.602087Z",
          "shell.execute_reply": "2024-06-15T20:02:04.639082Z"
        },
        "trusted": true,
        "id": "H_-brbWCJFBK"
      },
      "execution_count": null,
      "outputs": []
    },
    {
      "cell_type": "code",
      "source": [],
      "metadata": {
        "id": "802B_wirJFBK"
      },
      "execution_count": null,
      "outputs": []
    }
  ]
}